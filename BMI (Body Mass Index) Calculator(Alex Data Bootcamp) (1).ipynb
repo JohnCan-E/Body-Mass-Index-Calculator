{
 "cells": [
  {
   "cell_type": "markdown",
   "id": "f63abe42",
   "metadata": {},
   "source": [
    "\n",
    "# BMI (Body Mass Index) Calculator\n"
   ]
  },
  {
   "cell_type": "code",
   "execution_count": 10,
   "id": "52b648b7",
   "metadata": {},
   "outputs": [
    {
     "name": "stdout",
     "output_type": "stream",
     "text": [
      "Please enter your name john\n",
      "Please enter your weight in POUNDS :      188\n",
      "Please enter your height in INCHES :      72\n",
      "25.494598765432098\n",
      "john , Sorry, you are overweight\n"
     ]
    }
   ],
   "source": [
    "name=input(\"Please enter your name \")\n",
    "weight=int(input(\"Please enter your weight in POUNDS :      \"))\n",
    "height=int(input(\"Please enter your height in INCHES :      \"))\n",
    "\n",
    "BMI= (weight * 703) / (height * height)\n",
    "\n",
    "print(BMI)\n",
    "\n",
    "if BMI>0:\n",
    "    if (BMI<18.5):\n",
    "        print(name + \", Sorry, You are underweight\")\n",
    "    elif (BMI<=24.9):\n",
    "        print(name + \", You are Normal Weight\")\n",
    "    elif (BMI<=29.9):\n",
    "        print(name + \" , Sorry, you are overweight\")\n",
    "    elif (30<=BMI<=34.9):\n",
    "        print (name + \" , Sorry to say ,but you are Obese\")\n",
    "    elif (BMI<=39.9):\n",
    "        print (name + \", Unfortunately, you are Severely Obese\")\n",
    "    else :\n",
    "        print(name + \" , Unfortunately, you are Morbidly Obese\")\n",
    "else:\n",
    "    print(\"Please enter a valid input\")\n"
   ]
  },
  {
   "cell_type": "code",
   "execution_count": null,
   "id": "081c8502",
   "metadata": {},
   "outputs": [],
   "source": [
    "Under 18.5---->Underweight----->Minimal\n",
    "18.5 - 24.9--->NormalWeight---->Minimal\n",
    "25 - 29.9----->OverWeight------>Increased\n",
    "30 - 34.9----->Obese----------->High\n",
    "35 - 39.9----->Severely Obese-->Very High\n",
    "40 and  over-->Morbidly Obese-->Extremely High"
   ]
  },
  {
   "cell_type": "code",
   "execution_count": null,
   "id": "a2fab335",
   "metadata": {},
   "outputs": [],
   "source": []
  },
  {
   "cell_type": "code",
   "execution_count": null,
   "id": "0da7f334",
   "metadata": {},
   "outputs": [],
   "source": []
  },
  {
   "cell_type": "code",
   "execution_count": null,
   "id": "871cd710",
   "metadata": {},
   "outputs": [],
   "source": []
  },
  {
   "cell_type": "code",
   "execution_count": null,
   "id": "746472c2",
   "metadata": {},
   "outputs": [],
   "source": []
  },
  {
   "cell_type": "code",
   "execution_count": null,
   "id": "f36c7492",
   "metadata": {},
   "outputs": [],
   "source": []
  }
 ],
 "metadata": {
  "kernelspec": {
   "display_name": "Python 3 (ipykernel)",
   "language": "python",
   "name": "python3"
  },
  "language_info": {
   "codemirror_mode": {
    "name": "ipython",
    "version": 3
   },
   "file_extension": ".py",
   "mimetype": "text/x-python",
   "name": "python",
   "nbconvert_exporter": "python",
   "pygments_lexer": "ipython3",
   "version": "3.9.13"
  }
 },
 "nbformat": 4,
 "nbformat_minor": 5
}
